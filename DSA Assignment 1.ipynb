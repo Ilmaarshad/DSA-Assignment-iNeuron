{
 "cells": [
  {
   "cell_type": "raw",
   "id": "60c6ef15",
   "metadata": {},
   "source": [
    " **Q1.** Given an array of integers nums and an integer target, return indices of the two numbers such that they add up to target.\n",
    "\n",
    "You may assume that each input would have exactly one solution, and you may not use the same element twice.\n",
    "\n",
    "You can return the answer in any order.\n"
   ]
  },
  {
   "cell_type": "code",
   "execution_count": 1,
   "id": "57fe683c",
   "metadata": {},
   "outputs": [],
   "source": [
    "def twoSum(nums, target):\n",
    "    # Create a dictionary to store the complement of each number and its index\n",
    "    complement_dict = {}\n",
    "\n",
    "    for i, num in enumerate(nums):\n",
    "        complement = target - num\n",
    "\n",
    "        # If the complement is in the dictionary, return its index and the current index\n",
    "        if complement in complement_dict:\n",
    "            return [complement_dict[complement], i]\n",
    "\n",
    "        # Add the current number and its index to the dictionary\n",
    "        complement_dict[num] = i\n",
    "\n",
    "    # If no solution is found, return an empty list\n",
    "    return []"
   ]
  },
  {
   "cell_type": "code",
   "execution_count": 2,
   "id": "95ce92d9",
   "metadata": {},
   "outputs": [
    {
     "data": {
      "text/plain": [
       "[1, 3]"
      ]
     },
     "execution_count": 2,
     "metadata": {},
     "output_type": "execute_result"
    }
   ],
   "source": [
    "twoSum([2,3,2,5,7,8],8)"
   ]
  },
  {
   "cell_type": "raw",
   "id": "040b93cc",
   "metadata": {},
   "source": [
    "Q2. Given an integer array nums and an integer val, remove all occurrences of val in nums in-place. The order of the elements may be changed. Then return the number of elements in nums which are not equal to val."
   ]
  },
  {
   "cell_type": "code",
   "execution_count": 3,
   "id": "4a499cfa",
   "metadata": {},
   "outputs": [],
   "source": [
    "def removeElement(nums, val):\n",
    "    # Initialize two pointers: one for the current position and one for the next position to overwrite\n",
    "    current = 0\n",
    "    next_pos = 0\n",
    "\n",
    "    # Iterate through the array\n",
    "    while current < len(nums):\n",
    "        # If the current element is not equal to val, move it to the next position to overwrite\n",
    "        if nums[current] != val:\n",
    "            nums[next_pos] = nums[current]\n",
    "            next_pos += 1\n",
    "\n",
    "        current += 1\n",
    "\n",
    "    # Return the number of elements remaining\n",
    "    return next_pos"
   ]
  },
  {
   "cell_type": "code",
   "execution_count": 4,
   "id": "6916eb11",
   "metadata": {},
   "outputs": [
    {
     "name": "stdout",
     "output_type": "stream",
     "text": [
      "2\n",
      "[2, 2, 2, 3]\n"
     ]
    }
   ],
   "source": [
    "nums = [3, 2, 2, 3]\n",
    "val = 3\n",
    "\n",
    "result = removeElement(nums, val)\n",
    "print(result)\n",
    "print(nums)"
   ]
  },
  {
   "cell_type": "raw",
   "id": "68128a41",
   "metadata": {},
   "source": [
    " **Q3.** Given a sorted array of distinct integers and a target value, return the index if the target is found. If not, return the index where it would be if it were inserted in order.\n",
    "\n",
    "You must write an algorithm with O(log n) runtime complexity.\n",
    "\n",
    "</aside>"
   ]
  },
  {
   "cell_type": "code",
   "execution_count": 5,
   "id": "9324bda2",
   "metadata": {},
   "outputs": [],
   "source": [
    "def searchInsert(nums, target):\n",
    "    left = 0\n",
    "    right = len(nums) - 1\n",
    "\n",
    "    while left <= right:\n",
    "        mid = left + (right - left) // 2\n",
    "\n",
    "        if nums[mid] == target:\n",
    "            return mid\n",
    "        elif nums[mid] < target:\n",
    "            left = mid + 1\n",
    "        else:\n",
    "            right = mid - 1\n",
    "\n",
    "    # If the target is not found, return the index where it would be inserted\n",
    "    return left"
   ]
  },
  {
   "cell_type": "code",
   "execution_count": 6,
   "id": "75f9ef4f",
   "metadata": {},
   "outputs": [
    {
     "name": "stdout",
     "output_type": "stream",
     "text": [
      "2\n"
     ]
    }
   ],
   "source": [
    "nums = [1, 3, 5, 6]\n",
    "target = 5\n",
    "\n",
    "result = searchInsert(nums, target)\n",
    "print(result)"
   ]
  },
  {
   "cell_type": "raw",
   "id": "dbf6f580",
   "metadata": {},
   "source": [
    " **Q4.** You are given a large integer represented as an integer array digits, where each digits[i] is the ith digit of the integer. The digits are ordered from most significant to least significant in left-to-right order. The large integer does not contain any leading 0's.\n",
    "\n",
    "Increment the large integer by one and return the resulting array of digits.\n",
    "\n",
    "</aside>"
   ]
  },
  {
   "cell_type": "code",
   "execution_count": 7,
   "id": "4850e95d",
   "metadata": {},
   "outputs": [],
   "source": [
    "def plusOne(digits):\n",
    "    n = len(digits)\n",
    "\n",
    "    # Iterate through the digits in reverse order\n",
    "    for i in range(n - 1, -1, -1):\n",
    "        # Increment the current digit by one\n",
    "        digits[i] += 1\n",
    "\n",
    "        # If the digit becomes 10, set it to 0 and carry over the one to the next digit\n",
    "        if digits[i] == 10:\n",
    "            digits[i] = 0\n",
    "        else:\n",
    "            # If the digit is less than 10, there is no need to carry over, so we can return the digits\n",
    "            return digits\n",
    "\n",
    "    # If all digits become 10, add a new leading digit 1\n",
    "    digits.insert(0, 1)\n",
    "\n",
    "    return digits"
   ]
  },
  {
   "cell_type": "code",
   "execution_count": 8,
   "id": "9218c617",
   "metadata": {},
   "outputs": [
    {
     "name": "stdout",
     "output_type": "stream",
     "text": [
      "[1, 2, 4]\n"
     ]
    }
   ],
   "source": [
    "digits = [1, 2, 3]\n",
    "\n",
    "result = plusOne(digits)\n",
    "print(result)"
   ]
  },
  {
   "cell_type": "raw",
   "id": "e76d2587",
   "metadata": {},
   "source": [
    " **Q5.** You are given two integer arrays nums1 and nums2, sorted in non-decreasing order, and two integers m and n, representing the number of elements in nums1 and nums2 respectively.\n",
    "\n",
    "Merge nums1 and nums2 into a single array sorted in non-decreasing order.\n",
    "\n",
    "The final sorted array should not be returned by the function, but instead be stored inside the array nums1. To accommodate this, nums1 has a length of m + n, where the first m elements denote the elements that should be merged, and the last n elements are set to 0 and should be ignored. nums2 has a length of n.\n",
    "\n",
    "</aside>"
   ]
  },
  {
   "cell_type": "code",
   "execution_count": 9,
   "id": "9339022b",
   "metadata": {},
   "outputs": [],
   "source": [
    "def merge(nums1, m, nums2, n):\n",
    "    # Initialize pointers for nums1, nums2, and the merged result\n",
    "    p1 = m - 1\n",
    "    p2 = n - 1\n",
    "    p = m + n - 1\n",
    "\n",
    "    # Iterate through both arrays from the end\n",
    "    while p1 >= 0 and p2 >= 0:\n",
    "        if nums1[p1] >= nums2[p2]:\n",
    "            nums1[p] = nums1[p1]\n",
    "            p1 -= 1\n",
    "        else:\n",
    "            nums1[p] = nums2[p2]\n",
    "            p2 -= 1\n",
    "        p -= 1\n",
    "\n",
    "    # If there are remaining elements in nums2, copy them to nums1\n",
    "    nums1[:p2 + 1] = nums2[:p2 + 1]\n",
    "\n",
    "    return nums1"
   ]
  },
  {
   "cell_type": "code",
   "execution_count": 10,
   "id": "9263d6a0",
   "metadata": {},
   "outputs": [
    {
     "name": "stdout",
     "output_type": "stream",
     "text": [
      "[1, 2, 2, 3, 5, 6]\n"
     ]
    }
   ],
   "source": [
    "nums1 = [1, 2, 3, 0, 0, 0]\n",
    "m = 3\n",
    "nums2 = [2, 5, 6]\n",
    "n = 3\n",
    "\n",
    "result = merge(nums1, m, nums2, n)\n",
    "print(result)"
   ]
  },
  {
   "cell_type": "raw",
   "id": "c5cceec5",
   "metadata": {},
   "source": [
    "Q6. Given an integer array nums, return true if any value appears at least twice in the array, and return false if every element is distinct."
   ]
  },
  {
   "cell_type": "code",
   "execution_count": 11,
   "id": "cc64674c",
   "metadata": {},
   "outputs": [],
   "source": [
    "def containsDuplicate(nums):\n",
    "    seen = set()\n",
    "\n",
    "    for num in nums:\n",
    "        if num in seen:\n",
    "            return True\n",
    "        seen.add(num)\n",
    "\n",
    "    return False"
   ]
  },
  {
   "cell_type": "code",
   "execution_count": 12,
   "id": "75e59b9e",
   "metadata": {},
   "outputs": [
    {
     "name": "stdout",
     "output_type": "stream",
     "text": [
      "True\n"
     ]
    }
   ],
   "source": [
    "nums = [1, 2, 3, 1]\n",
    "\n",
    "result = containsDuplicate(nums)\n",
    "print(result)"
   ]
  },
  {
   "cell_type": "raw",
   "id": "ca595f6c",
   "metadata": {},
   "source": [
    " **Q7.** Given an integer array nums, move all 0's to the end of it while maintaining the relative order of the nonzero elements.\n",
    "\n",
    "Note that you must do this in-place without making a copy of the array.\n",
    "\n",
    "**Example 1:**\n",
    "Input: nums = [0,1,0,3,12]\n",
    "Output: [1,3,12,0,0]\n",
    "\n",
    "</aside>"
   ]
  },
  {
   "cell_type": "code",
   "execution_count": 13,
   "id": "614a28e5",
   "metadata": {},
   "outputs": [],
   "source": [
    "def moveZeroes(nums):\n",
    "    # Initialize two pointers: one for the current position and one for the next position to place a non-zero element\n",
    "    current = 0\n",
    "    next_pos = 0\n",
    "\n",
    "    # Iterate through the array\n",
    "    while current < len(nums):\n",
    "        # If the current element is non-zero, move it to the next position to place a non-zero element\n",
    "        if nums[current] != 0:\n",
    "            nums[next_pos] = nums[current]\n",
    "            next_pos += 1\n",
    "\n",
    "        current += 1\n",
    "\n",
    "    # After all non-zero elements are placed, fill the remaining positions with zeros\n",
    "    while next_pos < len(nums):\n",
    "        nums[next_pos] = 0\n",
    "        next_pos += 1\n",
    "\n",
    "    # Note: The function modifies the array in-place, so it doesn't return anything\n"
   ]
  },
  {
   "cell_type": "code",
   "execution_count": 14,
   "id": "07460c11",
   "metadata": {},
   "outputs": [
    {
     "name": "stdout",
     "output_type": "stream",
     "text": [
      "[1, 3, 12, 0, 0]\n"
     ]
    }
   ],
   "source": [
    "nums = [0, 1, 0, 3, 12]\n",
    "\n",
    "moveZeroes(nums)\n",
    "print(nums)"
   ]
  },
  {
   "cell_type": "raw",
   "id": "dd110360",
   "metadata": {},
   "source": [
    " **Q8.** You have a set of integers s, which originally contains all the numbers from 1 to n. Unfortunately, due to some error, one of the numbers in s got duplicated to another number in the set, which results in repetition of one number and loss of another number.\n",
    "\n",
    "You are given an integer array nums representing the data status of this set after the error.\n",
    "\n",
    "Find the number that occurs twice and the number that is missing and return them in the form of an array.\n"
   ]
  },
  {
   "cell_type": "code",
   "execution_count": 16,
   "id": "4fcd222e",
   "metadata": {},
   "outputs": [],
   "source": [
    "def findErrorNums(nums):\n",
    "    n = len(nums)\n",
    "    num_set = set()\n",
    "    duplicate = -1\n",
    "    missing = -1\n",
    "\n",
    "    # Find the duplicate number by checking the set\n",
    "    for num in nums:\n",
    "        if num in num_set:\n",
    "            duplicate = num\n",
    "        num_set.add(num)\n",
    "\n",
    "    # Find the missing number by checking the range from 1 to n\n",
    "    for i in range(1, n + 1):\n",
    "        if i not in num_set:\n",
    "            missing = i\n",
    "            break\n",
    "\n",
    "    return [duplicate, missing]"
   ]
  },
  {
   "cell_type": "code",
   "execution_count": 17,
   "id": "d84e890b",
   "metadata": {},
   "outputs": [
    {
     "name": "stdout",
     "output_type": "stream",
     "text": [
      "[2, 3]\n"
     ]
    }
   ],
   "source": [
    "nums = [1, 2, 2, 4]\n",
    "\n",
    "result = findErrorNums(nums)\n",
    "print(result)"
   ]
  },
  {
   "cell_type": "code",
   "execution_count": null,
   "id": "55954e28",
   "metadata": {},
   "outputs": [],
   "source": []
  }
 ],
 "metadata": {
  "kernelspec": {
   "display_name": "Python 3 (ipykernel)",
   "language": "python",
   "name": "python3"
  },
  "language_info": {
   "codemirror_mode": {
    "name": "ipython",
    "version": 3
   },
   "file_extension": ".py",
   "mimetype": "text/x-python",
   "name": "python",
   "nbconvert_exporter": "python",
   "pygments_lexer": "ipython3",
   "version": "3.9.13"
  }
 },
 "nbformat": 4,
 "nbformat_minor": 5
}
